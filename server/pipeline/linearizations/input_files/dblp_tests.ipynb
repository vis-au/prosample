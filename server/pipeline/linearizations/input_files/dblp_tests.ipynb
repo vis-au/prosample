{
 "cells": [
  {
   "cell_type": "code",
   "execution_count": 1,
   "metadata": {},
   "outputs": [
    {
     "data": {
      "text/plain": [
       "<networkx.classes.digraph.DiGraph at 0x1ca7455cdc0>"
      ]
     },
     "execution_count": 1,
     "metadata": {},
     "output_type": "execute_result"
    }
   ],
   "source": [
    "import networkx as nx\n",
    "import pandas as pd\n",
    "\n",
    "# data can be downloaded from http://nrvis.com/download/data/cit/cit-DBLP.zip\n",
    "# and it only contains the edges of the graph\n",
    "\n",
    "edges = pd.read_csv(\"dblp_edgesData.csv\", delimiter=\";\")\n",
    "G = nx.from_pandas_edgelist(edges)\n",
    "\n",
    "G_ = nx.DiGraph(G.edges)\n",
    "G_"
   ]
  },
  {
   "cell_type": "code",
   "execution_count": 2,
   "metadata": {},
   "outputs": [
    {
     "name": "stdout",
     "output_type": "stream",
     "text": [
      "Linearized file into folder output_files\n"
     ]
    },
    {
     "data": {
      "text/plain": [
       "array([ 5906,   348, 10523, ..., 17709, 17840, 17086], dtype=int64)"
      ]
     },
     "execution_count": 2,
     "metadata": {},
     "output_type": "execute_result"
    }
   ],
   "source": [
    "import os, sys\n",
    "sys.path.append(f\"{os.getcwd()}/../\")\n",
    "\n",
    "import pandas as pd\n",
    "import numpy as np\n",
    "import networkx as nx\n",
    "\n",
    "from GraphLinearizations import BasicGraphLinearization\n",
    "lin = BasicGraphLinearization(\"dblp_edges\", dimensions=3, exclude_attributes=[])\n",
    "\n",
    "lin.read_data()\n",
    "np.array(lin.linearize())"
   ]
  }
 ],
 "metadata": {
  "kernelspec": {
   "display_name": "Python 3.9.4 ('venv': venv)",
   "language": "python",
   "name": "python3"
  },
  "language_info": {
   "codemirror_mode": {
    "name": "ipython",
    "version": 3
   },
   "file_extension": ".py",
   "mimetype": "text/x-python",
   "name": "python",
   "nbconvert_exporter": "python",
   "pygments_lexer": "ipython3",
   "version": "3.9.4"
  },
  "orig_nbformat": 4,
  "vscode": {
   "interpreter": {
    "hash": "f1ea470226d0cff7032cd0b9e9385b52bdf95c0a60e2d883ab49f34ab0debaa6"
   }
  }
 },
 "nbformat": 4,
 "nbformat_minor": 2
}
