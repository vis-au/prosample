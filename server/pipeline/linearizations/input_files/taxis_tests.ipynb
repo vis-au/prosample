{
 "cells": [
  {
   "cell_type": "code",
   "execution_count": 14,
   "metadata": {},
   "outputs": [],
   "source": [
    "import pandas as pd\n",
    "from shapely.wkt import loads\n",
    "\n",
    "# source 2018 yellow cab taxi rides (112M lines; may sample down to 1M for convenience):\n",
    "# https://data.cityofnewyork.us/Transportation/2018-Yellow-Taxi-Trip-Data/t29m-gskq\n",
    "# source taxi zones:\n",
    "# https://data.cityofnewyork.us/Transportation/NYC-Taxi-Zones/d3c5-ddgc\n",
    "rides_df = pd.read_csv(\"./taxis.csv\", delimiter=\";\", parse_dates=[\"tpep_pickup_datetime\", \"tpep_dropoff_datetime\"])\n",
    "zones_df = pd.read_csv(\"./taxi_zones.csv\")\n",
    "\n",
    "# generate a representative geo point for each taxi ride's pick-up and drop-off location, so that \n",
    "# we can linearize by geospace\n",
    "representativeX = []\n",
    "representativeY = []\n",
    "\n",
    "for i, zone in enumerate(zones_df[\"the_geom\"]):\n",
    "  representative = loads(zone).representative_point()\n",
    "  representativeX += [representative.xy[0][0]]\n",
    "  representativeY += [representative.xy[1][0]]\n",
    "\n",
    "zones_df = zones_df[[\"zone\", \"LocationID\"]].set_index(\"LocationID\")\n",
    "zones_df[\"representativeX\"] = representativeX\n",
    "zones_df[\"representativeY\"] = representativeY\n",
    "\n",
    "# for convenience, append the representatives as columns to the rides table via join\n",
    "zones_df = zones_df.rename(columns={\n",
    "  \"zone\": \"PUZone\", \n",
    "  \"representativeX\": \"PURepresentativeX\", \n",
    "  \"representativeY\": \"PURepresentativeY\"\n",
    "})\n",
    "rides_df = rides_df.join(zones_df, on=\"PULocationID\")\n",
    "zones_df = zones_df.rename(columns={\n",
    "  \"PUZone\": \"DOZone\", \n",
    "  \"PURepresentativeX\": \"DORepresentativeX\", \n",
    "  \"PURepresentativeY\": \"DORepresentativeY\"\n",
    "})\n",
    "rides_df = rides_df.join(zones_df, on=\"DOLocationID\", rsuffix=\"DO\")\n",
    "\n",
    "# write the update data back to the file\n",
    "rides_df.to_csv(\"./taxisData.csv\", sep=\";\", index=False)"
   ]
  },
  {
   "cell_type": "code",
   "execution_count": 27,
   "metadata": {},
   "outputs": [
    {
     "data": {
      "text/plain": [
       "0         164430\n",
       "1         204086\n",
       "2         338771\n",
       "3         338763\n",
       "4         711583\n",
       "           ...  \n",
       "999995    265693\n",
       "999996    786733\n",
       "999997    197280\n",
       "999998    624809\n",
       "999999    723491\n",
       "Length: 1000343, dtype: int64"
      ]
     },
     "execution_count": 27,
     "metadata": {},
     "output_type": "execute_result"
    }
   ],
   "source": [
    "import pymorton as pm\n",
    "import numpy as np\n",
    "\n",
    "pos = rides_df[[\"PURepresentativeX\", \"PURepresentativeY\"]]\n",
    "hashes = pos.apply(lambda row: pm.interleave_latlng(row[0], row[1]), axis=1)\n",
    "np.argsort(hashes)"
   ]
  }
 ],
 "metadata": {
  "kernelspec": {
   "display_name": "Python 3.9.4 ('venv': venv)",
   "language": "python",
   "name": "python3"
  },
  "language_info": {
   "codemirror_mode": {
    "name": "ipython",
    "version": 3
   },
   "file_extension": ".py",
   "mimetype": "text/x-python",
   "name": "python",
   "nbconvert_exporter": "python",
   "pygments_lexer": "ipython3",
   "version": "3.9.4"
  },
  "orig_nbformat": 4,
  "vscode": {
   "interpreter": {
    "hash": "f1ea470226d0cff7032cd0b9e9385b52bdf95c0a60e2d883ab49f34ab0debaa6"
   }
  }
 },
 "nbformat": 4,
 "nbformat_minor": 2
}
