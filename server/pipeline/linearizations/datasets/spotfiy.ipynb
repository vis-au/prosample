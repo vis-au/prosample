{
 "cells": [
  {
   "cell_type": "code",
   "execution_count": null,
   "metadata": {},
   "outputs": [],
   "source": [
    "import pandas as pd\n",
    "import sqlalchemy\n",
    "\n",
    "# https://www.kaggle.com/datasets/maltegrosse/8-m-spotify-tracks-genre-audio-features?resource=download\n",
    "connection = sqlalchemy.create_engine(\"sqlite:///spotify.sqlite\")\n",
    "query = \"SELECT * FROM audio_features;\"\n",
    "\n",
    "tracks = pd.read_sql_table(\"tracks\", connection, chunksize=10000)\n",
    "\n",
    "r = None\n",
    "for t in tracks: \n",
    "  r = t\n",
    "  break\n",
    "\n",
    "r\n",
    "\n",
    "# idea: load the data into a duckdb database, store it in that cool dataformat (or csv?)\n",
    "# then what? use duckdb to analyze the spotify data from that compressed file format (faster than sqlite?)\n",
    "# ids = audio_features[\"id\"]\n",
    "\n",
    "# query = f\"SELECT * FROM tracks WHERE id='{ids[0]}'\"\n",
    "# tracks = pd.read_sql_query(query, connection)\n",
    "# tracks"
   ]
  },
  {
   "cell_type": "code",
   "execution_count": null,
   "metadata": {},
   "outputs": [],
   "source": [
    "import pandas as pd\n",
    "\n",
    "df = pd.read_csv(\"./mountainPeaksLinearizationNN.csv\", delimiter=\";\", names=[\"0\", \"1\", \"2\", \"3\"])\n",
    "df.describe()"
   ]
  },
  {
   "cell_type": "code",
   "execution_count": null,
   "metadata": {},
   "outputs": [],
   "source": [
    "import pandas as pd\n",
    "\n",
    "df = pd.read_csv(\"./spotifyLinearizationZOrder.csv\", delimiter=\";\")\n",
    "df.describe()"
   ]
  },
  {
   "cell_type": "code",
   "execution_count": null,
   "metadata": {},
   "outputs": [],
   "source": [
    "3717200.1380482144>2162899.5103296814"
   ]
  },
  {
   "cell_type": "code",
   "execution_count": null,
   "metadata": {},
   "outputs": [],
   "source": [
    "from sklearn.manifold import TSNE\n",
    "import pandas as pd\n",
    "\n",
    "\n",
    "df = pd.read_csv(\"./spotifyLinearizationZOrder.csv\", delimiter=\";\")\n",
    "X_embedded = TSNE(n_components=2, learning_rate=\"auto\", init=\"random\").fit_transform(df)\n",
    "X_embedded"
   ]
  },
  {
   "cell_type": "code",
   "execution_count": null,
   "metadata": {},
   "outputs": [],
   "source": [
    "import pandas as pd\n",
    "from sklearn.decomposition import PCA\n",
    "\n",
    "df = pd.read_csv(\"./spotifyLinearizationZOrder.csv\", delimiter=\";\")\n",
    "df.hist()\n",
    "\n",
    "pca = PCA(n_components=2)\n",
    "X_ = pca.fit_transform(df)\n",
    "\n",
    "pd.DataFrame(X_).hist()\n",
    "X_"
   ]
  }
 ],
 "metadata": {
  "kernelspec": {
   "display_name": "Python 3.9.4 ('venv': venv)",
   "language": "python",
   "name": "python3"
  },
  "language_info": {
   "codemirror_mode": {
    "name": "ipython",
    "version": 3
   },
   "file_extension": ".py",
   "mimetype": "text/x-python",
   "name": "python",
   "nbconvert_exporter": "python",
   "pygments_lexer": "ipython3",
   "version": "3.9.4"
  },
  "orig_nbformat": 4,
  "vscode": {
   "interpreter": {
    "hash": "f1ea470226d0cff7032cd0b9e9385b52bdf95c0a60e2d883ab49f34ab0debaa6"
   }
  }
 },
 "nbformat": 4,
 "nbformat_minor": 2
}
