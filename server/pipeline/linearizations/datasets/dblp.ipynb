{
 "cells": [
  {
   "cell_type": "markdown",
   "metadata": {},
   "source": [
    "# DBLP Dataset\n",
    "Download the data from https://www.kaggle.com/datasets/mathurinache/citation-network-dataset, unzip it, and store it as `dblp.v12.json` in this directory."
   ]
  },
  {
   "cell_type": "markdown",
   "metadata": {},
   "source": [
    "### Transform the data for use with the sampling pipeline"
   ]
  },
  {
   "cell_type": "markdown",
   "metadata": {},
   "source": [
    "For testing, we will use a sample of the full dataset, which we can create by running the following commands in this directory:\n",
    "```\n",
    "head -1000000 dblp.v12.json > dblp.v12.1M.json\n",
    "echo ] >> dblp.v12.1M.json\n",
    "```\n",
    "It is important here to take a large sample from the full dataset, to make sure that we have at least some edges for which we know both the source **and** the target data to work with."
   ]
  },
  {
   "cell_type": "markdown",
   "metadata": {},
   "source": [
    "Since the data is nested -- which does not work nicely with pandas -- we read it with the stdlib `json` module first, extracting nodes and edges. This took around 15 minutes on our hardware."
   ]
  },
  {
   "cell_type": "code",
   "execution_count": null,
   "metadata": {},
   "outputs": [],
   "source": [
    "import json\n",
    "import pandas as pd\n",
    "\n",
    "edges = []\n",
    "nodes = []\n",
    "\n",
    "with open(\"./dblp.v12.1M.json\", encoding='Latin1') as json_file:\n",
    "  data = json.load(json_file)\n",
    "\n",
    "  for row in data:\n",
    "    node = {\n",
    "      \"id\": row[\"id\"],\n",
    "      \"n_citation\": row[\"n_citation\"],\n",
    "      \"title\": row[\"title\"],\n",
    "      \"year\": row[\"year\"]\n",
    "    }\n",
    "    nodes += [node]\n",
    "\n",
    "    if \"references\" not in row:\n",
    "      continue\n",
    "    \n",
    "    for reference in row[\"references\"]:\n",
    "      edges += [[node[\"id\"], reference]]\n",
    "\n",
    "edges_df = pd.DataFrame(edges, columns=[\"source\", \"target\"])\n",
    "nodes_df = pd.DataFrame(nodes).set_index(\"id\")"
   ]
  },
  {
   "cell_type": "markdown",
   "metadata": {},
   "source": [
    "For convenience, we store nodes and edges as CSV files, only keeping those edges for which we also have source and target nodes in the sample. \n",
    "Then, once we have run this cell, we no longer need to go through the lengthy conversion above when working with the data, since we can just load the CSV files."
   ]
  },
  {
   "cell_type": "code",
   "execution_count": null,
   "metadata": {},
   "outputs": [],
   "source": [
    "exists = ~edges_df.join(nodes_df, on=\"target\")[\"year\"].isnull()\n",
    "edges_df[exists].to_csv(\"dblp_edges.1M.csv\", sep=\";\", index=False)\n",
    "nodes_df.to_csv(\"dblp_nodes.1M.csv\", sep=\";\", index=True)  # make sure that id is stored!"
   ]
  },
  {
   "cell_type": "markdown",
   "metadata": {},
   "source": [
    "Create a joined table that contains all information for both source and target.\n",
    "Of course, this means that there are duplicates, but as proof-of-concept, we include those data."
   ]
  },
  {
   "cell_type": "code",
   "execution_count": null,
   "metadata": {},
   "outputs": [],
   "source": [
    "import pandas as pd\n",
    "\n",
    "edges_df = pd.read_csv(\"dblp_edges.1M.csv\", delimiter=\";\")\n",
    "nodes_df = pd.read_csv(\"dblp_nodes.1M.csv\", delimiter=\";\", index_col=\"id\")\n",
    "\n",
    "edges_df.join(nodes_df, on=\"source\", lsuffix=\"source\").join(nodes_df, on=\"target\", lsuffix=\"_source\", rsuffix=\"_target\").to_csv(\"dblpData.csv\", sep=\";\", header=False, index=True, index_label=\"index\")\n",
    "\n",
    "columns = [\"source\", \"target\", \"n_citation_source\", \"title_source\", \"year_source\", \"n_citation_target\", \"title_target\", \"year_target\"]"
   ]
  },
  {
   "cell_type": "markdown",
   "metadata": {},
   "source": [
    "### Plot the network"
   ]
  },
  {
   "cell_type": "code",
   "execution_count": null,
   "metadata": {},
   "outputs": [],
   "source": [
    "import networkx as nx\n",
    "import pandas as pd\n",
    "\n",
    "# data can be downloaded from http://nrvis.com/download/data/cit/cit-DBLP.zip\n",
    "# and it only contains the edges of the graph\n",
    "\n",
    "df = pd.read_csv(\"dblpData.csv\", delimiter=\";\", names=[\"index\", \"source\", \"target\", \"n_citation_source\", \"title_source\", \"year_source\", \"n_citation_target\", \"title_target\", \"year_target\"], index_col=\"index\")\n",
    "# nx.draw takes a very long time on the entire dataset, so we use a sample instead.\n",
    "G = nx.from_pandas_edgelist(df[[\"source\", \"target\"]].loc[:1000])\n",
    "\n",
    "G_ = nx.DiGraph(G.edges)\n",
    "nx.draw(G_, pos=nx.spring_layout(G_), node_size=5)"
   ]
  },
  {
   "cell_type": "markdown",
   "metadata": {},
   "source": [
    "### Plot the distribution of citations"
   ]
  },
  {
   "cell_type": "code",
   "execution_count": null,
   "metadata": {},
   "outputs": [],
   "source": [
    "import pandas as pd\n",
    "\n",
    "df = pd.read_csv(\"dblpData.csv\", delimiter=\";\", names=[\"index\", \"source\", \"target\", \"n_citation_source\", \"title_source\", \"year_source\", \"n_citation_target\", \"title_target\", \"year_target\"], index_col=\"index\")\n",
    "\n",
    "df[\"n_citation_source\"].plot.hist(bins=50)"
   ]
  },
  {
   "cell_type": "code",
   "execution_count": null,
   "metadata": {},
   "outputs": [],
   "source": [
    "import os, sys\n",
    "sys.path.append(f\"{os.getcwd()}/../\")\n",
    "\n",
    "import pandas as pd\n",
    "import numpy as np\n",
    "import networkx as nx\n",
    "\n",
    "from GraphLinearizations import BasicGraphLinearization\n",
    "\n",
    "\n",
    "lin = BasicGraphLinearization(\"dblp\", dimensions=9, exclude_attributes=[])\n",
    "\n",
    "lin.read_data()\n",
    "np.array(lin.linearize())"
   ]
  }
 ],
 "metadata": {
  "kernelspec": {
   "display_name": "Python 3.9.4 ('venv': venv)",
   "language": "python",
   "name": "python3"
  },
  "language_info": {
   "codemirror_mode": {
    "name": "ipython",
    "version": 3
   },
   "file_extension": ".py",
   "mimetype": "text/x-python",
   "name": "python",
   "nbconvert_exporter": "python",
   "pygments_lexer": "ipython3",
   "version": "3.9.4"
  },
  "orig_nbformat": 4,
  "vscode": {
   "interpreter": {
    "hash": "f1ea470226d0cff7032cd0b9e9385b52bdf95c0a60e2d883ab49f34ab0debaa6"
   }
  }
 },
 "nbformat": 4,
 "nbformat_minor": 2
}
